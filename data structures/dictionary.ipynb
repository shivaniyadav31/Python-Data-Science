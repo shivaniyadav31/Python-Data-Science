{
 "cells": [
  {
   "cell_type": "markdown",
   "id": "b5290c74",
   "metadata": {},
   "source": [
    "- how to create a dictionary\n",
    "- how to access pairs in dictionary\n",
    "- how to run a loop in dictionary\n",
    "- how to make a nested dicionary\n",
    "- indexing in dictionary"
   ]
  },
  {
   "cell_type": "markdown",
   "id": "c6dcb3c8",
   "metadata": {},
   "source": [
    "## creating a dictionary"
   ]
  },
  {
   "cell_type": "code",
   "execution_count": 3,
   "id": "37ead509",
   "metadata": {},
   "outputs": [
    {
     "name": "stdout",
     "output_type": "stream",
     "text": [
      "{'name': 'Alice', 'age': 20, 'course': 'BCA', 'marks': 92}\n"
     ]
    }
   ],
   "source": [
    "student = {\n",
    "    \"name\" : \"Alice\",\n",
    "    \"age\" : 20,\n",
    "    \"course\" : \"BCA\",\n",
    "    \"marks\" : 92\n",
    "}\n",
    "print(student)"
   ]
  },
  {
   "cell_type": "code",
   "execution_count": 4,
   "id": "8241ff4c",
   "metadata": {},
   "outputs": [
    {
     "name": "stdout",
     "output_type": "stream",
     "text": [
      "{'name': 'aofia', 'age': 20, 'course': 'BCA', 'marks': 92}\n"
     ]
    }
   ],
   "source": [
    "student = {\n",
    "    \"name\" : input(\"enter name\"),\n",
    "    \"age\" : 20,\n",
    "    \"course\" : \"BCA\",\n",
    "    \"marks\" : 92\n",
    "}\n",
    "print(student)"
   ]
  },
  {
   "cell_type": "code",
   "execution_count": 5,
   "id": "2eb6a8e7",
   "metadata": {},
   "outputs": [
    {
     "name": "stdout",
     "output_type": "stream",
     "text": [
      "{'name': 'alice', 'age': 20, 'course': 'mba', 'marks': 87}\n"
     ]
    }
   ],
   "source": [
    "info = dict( name = \"alice\", age = 20, course = \"mba\", marks = 87)\n",
    "print(info)"
   ]
  },
  {
   "cell_type": "code",
   "execution_count": 6,
   "id": "dd3d9773",
   "metadata": {},
   "outputs": [
    {
     "name": "stdout",
     "output_type": "stream",
     "text": [
      "{'name': 'ruby', 'age': 20, 'course': 'mba', 'marks': 87}\n"
     ]
    }
   ],
   "source": [
    "info = dict( name = input(\"enter name\"), age = 20, course = \"mba\", marks = 87)\n",
    "print(info)"
   ]
  },
  {
   "cell_type": "code",
   "execution_count": 7,
   "id": "88b7b71a",
   "metadata": {},
   "outputs": [
    {
     "name": "stdout",
     "output_type": "stream",
     "text": [
      "{'lucknow': [30, 35, 40], 'delhi': [45, 46, 47], 'chennai': [34, 38, 48]}\n"
     ]
    }
   ],
   "source": [
    "temp = {\n",
    "    'lucknow':[30,35,40],\n",
    "    'delhi':[45,46,47],\n",
    "    'chennai':[34,38,48]\n",
    "}\n",
    "print(temp)"
   ]
  },
  {
   "cell_type": "markdown",
   "id": "fcff01af",
   "metadata": {},
   "source": [
    "## accessing pairs in dict"
   ]
  },
  {
   "cell_type": "code",
   "execution_count": 8,
   "id": "65eb2e2e",
   "metadata": {},
   "outputs": [
    {
     "data": {
      "text/plain": [
       "20"
      ]
     },
     "execution_count": 8,
     "metadata": {},
     "output_type": "execute_result"
    }
   ],
   "source": [
    "#1st method to access value through key\n",
    "info['name']\n",
    "info['age']"
   ]
  },
  {
   "cell_type": "code",
   "execution_count": 9,
   "id": "4dc7ed95",
   "metadata": {},
   "outputs": [
    {
     "data": {
      "text/plain": [
       "87"
      ]
     },
     "execution_count": 9,
     "metadata": {},
     "output_type": "execute_result"
    }
   ],
   "source": [
    "#2nd method\n",
    "info.get('name')\n",
    "info.get('marks')"
   ]
  },
  {
   "cell_type": "code",
   "execution_count": 10,
   "id": "6fd94f46",
   "metadata": {},
   "outputs": [
    {
     "name": "stdout",
     "output_type": "stream",
     "text": [
      "{'name': 'ruby', 'age': 20, 'course': 'mba', 'marks': 87, 'city': 'lucknow'}\n"
     ]
    }
   ],
   "source": [
    "#adding new key and value pair in dict - dname['key'] = 'value'\n",
    "info['city'] = \"lucknow\"\n",
    "print(info)"
   ]
  },
  {
   "cell_type": "markdown",
   "id": "c5c9a798",
   "metadata": {},
   "source": [
    "## loops in dict"
   ]
  },
  {
   "cell_type": "code",
   "execution_count": 11,
   "id": "f7948370",
   "metadata": {},
   "outputs": [
    {
     "name": "stdout",
     "output_type": "stream",
     "text": [
      "name\n",
      "age\n",
      "course\n",
      "marks\n"
     ]
    }
   ],
   "source": [
    "for i in student:\n",
    "    print(i)"
   ]
  },
  {
   "cell_type": "code",
   "execution_count": 12,
   "id": "7646eb53",
   "metadata": {},
   "outputs": [
    {
     "name": "stdout",
     "output_type": "stream",
     "text": [
      "name : aofia\n",
      "age : 20\n",
      "course : BCA\n",
      "marks : 92\n"
     ]
    }
   ],
   "source": [
    "for i,j in student.items():\n",
    "    print(f\"{i} : {j}\")"
   ]
  },
  {
   "cell_type": "code",
   "execution_count": 13,
   "id": "f7a8cc19",
   "metadata": {},
   "outputs": [
    {
     "name": "stdout",
     "output_type": "stream",
     "text": [
      "dict_keys(['name', 'age', 'course', 'marks'])\n",
      "dict_values(['aofia', 20, 'BCA', 92])\n",
      "dict_items([('name', 'aofia'), ('age', 20), ('course', 'BCA'), ('marks', 92)])\n"
     ]
    }
   ],
   "source": [
    "print(student.keys())\n",
    "print(student.values())\n",
    "print(student.items())"
   ]
  },
  {
   "cell_type": "markdown",
   "id": "34940709",
   "metadata": {},
   "source": [
    "## nested dict"
   ]
  },
  {
   "cell_type": "code",
   "execution_count": 14,
   "id": "17aec202",
   "metadata": {},
   "outputs": [
    {
     "name": "stdout",
     "output_type": "stream",
     "text": [
      "{'emp001': {'name': 'Alice', 'dept': 'finance', 'salary': 50000}, 'emp002': {'name': 'Bob', 'dept': 'Marketing', 'salary': 45000}, 'emp003': {'name': 'Smith', 'dept': 'IT', 'salary': 70000}}\n"
     ]
    }
   ],
   "source": [
    "company = {\n",
    "    'emp001' : {\n",
    "        'name' : 'Alice',\n",
    "        'dept' : 'finance',\n",
    "        'salary' : 50000\n",
    "    },\n",
    "    'emp002' : {\n",
    "        'name' : 'Bob',\n",
    "        'dept' : 'Marketing',\n",
    "        'salary' : 45000\n",
    "    },\n",
    "    'emp003' : {\n",
    "        'name' : 'Smith',\n",
    "        'dept' : 'IT',\n",
    "        'salary' : 70000\n",
    "    }  \n",
    "}\n",
    "print(company)"
   ]
  },
  {
   "cell_type": "code",
   "execution_count": 15,
   "id": "204d1a52",
   "metadata": {},
   "outputs": [],
   "source": [
    "from pprint import pprint"
   ]
  },
  {
   "cell_type": "code",
   "execution_count": 16,
   "id": "29be22fe",
   "metadata": {},
   "outputs": [
    {
     "name": "stdout",
     "output_type": "stream",
     "text": [
      "{'emp001': {'dept': 'finance', 'name': 'Alice', 'salary': 50000},\n",
      " 'emp002': {'dept': 'Marketing', 'name': 'Bob', 'salary': 45000},\n",
      " 'emp003': {'dept': 'IT', 'name': 'Smith', 'salary': 70000}}\n"
     ]
    }
   ],
   "source": [
    "pprint(company)"
   ]
  },
  {
   "cell_type": "code",
   "execution_count": 17,
   "id": "8de95136",
   "metadata": {},
   "outputs": [
    {
     "name": "stdout",
     "output_type": "stream",
     "text": [
      "{'emp001': {'dept': 'finance', 'name': 'Alice', 'salary': 50000},\n",
      " 'emp002': {'dept': 'Marketing', 'name': 'Bob', 'salary': 45000},\n",
      " 'emp003': {'dept': 'IT', 'name': 'Smith', 'salary': 70000},\n",
      " 'emp004': {'dept': 'sales', 'name': 'Alex', 'salary': 75000}}\n"
     ]
    }
   ],
   "source": [
    "company['emp004'] = {'name' : 'Alex' , 'dept' : 'sales' , 'salary' : 75000 }\n",
    "pprint(company)"
   ]
  },
  {
   "cell_type": "code",
   "execution_count": 18,
   "id": "f3b1ca84",
   "metadata": {},
   "outputs": [
    {
     "data": {
      "text/plain": [
       "{'name': 'Bob', 'dept': 'Marketing', 'salary': 45000}"
      ]
     },
     "execution_count": 18,
     "metadata": {},
     "output_type": "execute_result"
    }
   ],
   "source": [
    "company['emp002']"
   ]
  },
  {
   "cell_type": "code",
   "execution_count": 19,
   "id": "f7815e7c",
   "metadata": {},
   "outputs": [
    {
     "data": {
      "text/plain": [
       "'Marketing'"
      ]
     },
     "execution_count": 19,
     "metadata": {},
     "output_type": "execute_result"
    }
   ],
   "source": [
    "company['emp002']['dept']"
   ]
  },
  {
   "cell_type": "code",
   "execution_count": 20,
   "id": "c807854b",
   "metadata": {},
   "outputs": [
    {
     "name": "stdout",
     "output_type": "stream",
     "text": [
      "35.0\n"
     ]
    }
   ],
   "source": [
    "a = temp['lucknow']\n",
    "print(sum(a) / len(a)) "
   ]
  },
  {
   "cell_type": "code",
   "execution_count": null,
   "id": "e2b77375",
   "metadata": {},
   "outputs": [],
   "source": []
  }
 ],
 "metadata": {
  "kernelspec": {
   "display_name": "base",
   "language": "python",
   "name": "python3"
  },
  "language_info": {
   "codemirror_mode": {
    "name": "ipython",
    "version": 3
   },
   "file_extension": ".py",
   "mimetype": "text/x-python",
   "name": "python",
   "nbconvert_exporter": "python",
   "pygments_lexer": "ipython3",
   "version": "3.13.2"
  }
 },
 "nbformat": 4,
 "nbformat_minor": 5
}
