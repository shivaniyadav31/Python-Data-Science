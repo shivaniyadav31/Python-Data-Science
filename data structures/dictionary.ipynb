{
 "cells": [
  {
   "cell_type": "markdown",
   "id": "b5290c74",
   "metadata": {},
   "source": [
    "- how to create a dictionary\n",
    "- how to access pairs in dictionary\n",
    "- how to run a loop in dictionary\n",
    "- how to make a nested dicionary\n",
    "- indexing in dictionary"
   ]
  },
  {
   "cell_type": "code",
   "execution_count": 4,
   "id": "37ead509",
   "metadata": {},
   "outputs": [
    {
     "name": "stdout",
     "output_type": "stream",
     "text": [
      "{'name': 'Alice', 'age': 20, 'course': 'BCA', 'marks': 92}\n"
     ]
    }
   ],
   "source": [
    "student = {\n",
    "    \"name\" : \"Alice\",\n",
    "    \"age\" : 20,\n",
    "    \"course\" : \"BCA\",\n",
    "    \"marks\" : 92\n",
    "}\n",
    "print(student)"
   ]
  },
  {
   "cell_type": "code",
   "execution_count": 6,
   "id": "8241ff4c",
   "metadata": {},
   "outputs": [
    {
     "name": "stdout",
     "output_type": "stream",
     "text": [
      "{'name': 'john', 'age': 20, 'course': 'BCA', 'marks': 92}\n"
     ]
    }
   ],
   "source": [
    "student = {\n",
    "    \"name\" : input(\"enter name\"),\n",
    "    \"age\" : 20,\n",
    "    \"course\" : \"BCA\",\n",
    "    \"marks\" : 92\n",
    "}\n",
    "print(student)"
   ]
  },
  {
   "cell_type": "code",
   "execution_count": 5,
   "id": "2eb6a8e7",
   "metadata": {},
   "outputs": [
    {
     "name": "stdout",
     "output_type": "stream",
     "text": [
      "{'name': 'alice', 'age': 20, 'course': 'mba', 'marks': 87}\n"
     ]
    }
   ],
   "source": [
    "info = dict( name = \"alice\", age = 20, course = \"mba\", marks = 87)\n",
    "print(info)"
   ]
  },
  {
   "cell_type": "code",
   "execution_count": 7,
   "id": "dd3d9773",
   "metadata": {},
   "outputs": [
    {
     "name": "stdout",
     "output_type": "stream",
     "text": [
      "{'name': 'joe', 'age': 20, 'course': 'mba', 'marks': 87}\n"
     ]
    }
   ],
   "source": [
    "info = dict( name = input(\"enter name\"), age = 20, course = \"mba\", marks = 87)\n",
    "print(info)"
   ]
  },
  {
   "cell_type": "code",
   "execution_count": 9,
   "id": "88b7b71a",
   "metadata": {},
   "outputs": [
    {
     "name": "stdout",
     "output_type": "stream",
     "text": [
      "{'lucknow': [30, 35, 40], 'delhi': [45, 46, 47], 'chennai': [34, 38, 48]}\n"
     ]
    }
   ],
   "source": [
    "temp = {\n",
    "    'lucknow':[30,35,40],\n",
    "    'delhi':[45,46,47],\n",
    "    'chennai':[34,38,48]\n",
    "}\n",
    "print(temp)"
   ]
  },
  {
   "cell_type": "markdown",
   "id": "fcff01af",
   "metadata": {},
   "source": [
    "## accessing pairs in dict"
   ]
  },
  {
   "cell_type": "code",
   "execution_count": 11,
   "id": "65eb2e2e",
   "metadata": {},
   "outputs": [
    {
     "data": {
      "text/plain": [
       "20"
      ]
     },
     "execution_count": 11,
     "metadata": {},
     "output_type": "execute_result"
    }
   ],
   "source": [
    "#1st method to access value through key\n",
    "info['name']\n",
    "info['age']"
   ]
  },
  {
   "cell_type": "code",
   "execution_count": 13,
   "id": "4dc7ed95",
   "metadata": {},
   "outputs": [
    {
     "data": {
      "text/plain": [
       "87"
      ]
     },
     "execution_count": 13,
     "metadata": {},
     "output_type": "execute_result"
    }
   ],
   "source": [
    "#2nd method\n",
    "info.get('name')\n",
    "info.get('marks')"
   ]
  },
  {
   "cell_type": "code",
   "execution_count": null,
   "id": "6fd94f46",
   "metadata": {},
   "outputs": [
    {
     "name": "stdout",
     "output_type": "stream",
     "text": [
      "{'name': 'joe', 'age': 20, 'course': 'mba', 'marks': 87, 'city': 'lucknow'}\n"
     ]
    }
   ],
   "source": [
    "#adding new key and value pair in dict - dname['key'] = 'value'\n",
    "info['city'] = \"lucknow\"\n",
    "print(info)"
   ]
  },
  {
   "cell_type": "code",
   "execution_count": null,
   "id": "f7948370",
   "metadata": {},
   "outputs": [],
   "source": []
  }
 ],
 "metadata": {
  "kernelspec": {
   "display_name": "base",
   "language": "python",
   "name": "python3"
  },
  "language_info": {
   "codemirror_mode": {
    "name": "ipython",
    "version": 3
   },
   "file_extension": ".py",
   "mimetype": "text/x-python",
   "name": "python",
   "nbconvert_exporter": "python",
   "pygments_lexer": "ipython3",
   "version": "3.13.2"
  }
 },
 "nbformat": 4,
 "nbformat_minor": 5
}
