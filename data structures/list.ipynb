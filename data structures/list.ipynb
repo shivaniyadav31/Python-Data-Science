{
 "cells": [
  {
   "cell_type": "code",
   "execution_count": 1,
   "id": "8d22426c",
   "metadata": {},
   "outputs": [
    {
     "name": "stdout",
     "output_type": "stream",
     "text": [
      "['instagram', 'whatsapp', 'facebook', 'netflix', 'gpay', 'youtube', 'snapchat', 'chatgpt', 'linkedin', 'rapido', 'gallery', 'music', 'zomato', 'swiggy']\n"
     ]
    }
   ],
   "source": [
    "apps=['instagram','whatsapp','facebook','netflix','gpay','youtube','snapchat','chatgpt','linkedin','rapido','gallery','music','zomato','swiggy']\n",
    "print(apps)"
   ]
  },
  {
   "cell_type": "markdown",
   "id": "ee9fb263",
   "metadata": {},
   "source": [
    "## indexing and slicing\n",
    "- index for single element\n",
    "- slicing for all element"
   ]
  },
  {
   "cell_type": "code",
   "execution_count": 2,
   "id": "2b4e6010",
   "metadata": {},
   "outputs": [
    {
     "name": "stdout",
     "output_type": "stream",
     "text": [
      "gpay\n",
      "snapchat\n"
     ]
    }
   ],
   "source": [
    "print(apps[4])\n",
    "print(apps[6])"
   ]
  },
  {
   "cell_type": "code",
   "execution_count": 3,
   "id": "ae241735",
   "metadata": {},
   "outputs": [
    {
     "name": "stdout",
     "output_type": "stream",
     "text": [
      "rapido\n",
      "youtube\n"
     ]
    }
   ],
   "source": [
    "print(apps[-5])\n",
    "print(apps[-9])"
   ]
  },
  {
   "cell_type": "code",
   "execution_count": 4,
   "id": "b2f476c8",
   "metadata": {},
   "outputs": [
    {
     "name": "stdout",
     "output_type": "stream",
     "text": [
      "['whatsapp', 'facebook', 'netflix', 'gpay']\n",
      "['whatsapp', 'netflix', 'youtube']\n"
     ]
    }
   ],
   "source": [
    "print(apps[1:5]) #end range n-1\n",
    "print(apps[1:7:2])"
   ]
  },
  {
   "cell_type": "code",
   "execution_count": 5,
   "id": "c66dc2b3",
   "metadata": {},
   "outputs": [
    {
     "name": "stdout",
     "output_type": "stream",
     "text": [
      "['instagram', 'whatsapp', 'facebook', 'netflix', 'gpay', 'youtube', 'snapchat', 'chatgpt', 'linkedin', 'rapido', 'gallery', 'music', 'zomato', 'swiggy']\n",
      "['instagram', 'facebook', 'gpay', 'snapchat', 'linkedin', 'gallery', 'zomato']\n",
      "[]\n"
     ]
    }
   ],
   "source": [
    "print(apps[:]) #to print complete list by slicing\n",
    "print(apps[::2]) #to print complete list by slicing with gap 2\n",
    "print(apps[-1:-4]) #empty coz execution is from left to right"
   ]
  },
  {
   "cell_type": "code",
   "execution_count": 6,
   "id": "60e649c6",
   "metadata": {},
   "outputs": [
    {
     "name": "stdout",
     "output_type": "stream",
     "text": [
      "['gallery', 'music', 'zomato']\n",
      "['instagram', 'whatsapp', 'facebook', 'netflix', 'gpay', 'youtube', 'snapchat', 'chatgpt', 'linkedin', 'rapido', 'gallery', 'music', 'zomato', 'swiggy']\n"
     ]
    }
   ],
   "source": [
    "print(apps[-4:-1])\n",
    "print(apps[-14:])"
   ]
  },
  {
   "cell_type": "markdown",
   "id": "d7b774a6",
   "metadata": {},
   "source": [
    "# list methods\n",
    "- append()- to add item at the END of the list\n",
    "- insert()- to add item at  any specific position of the list\n",
    "- pop()- to delete item using its index position\n",
    "- remove()- to delete item using item name\n",
    "- copy()- to make a duplicate of a list\n",
    "- sort()- to sort a list in a particular order\n",
    "- extend()- to combine 2 list into a single list\n",
    "- clear()- to delete all the items from the list but not the list"
   ]
  },
  {
   "cell_type": "code",
   "execution_count": 7,
   "id": "863ffd4e",
   "metadata": {},
   "outputs": [],
   "source": [
    "apps.append('camera')"
   ]
  },
  {
   "cell_type": "code",
   "execution_count": 8,
   "id": "8b222e3b",
   "metadata": {},
   "outputs": [
    {
     "name": "stdout",
     "output_type": "stream",
     "text": [
      "['instagram', 'whatsapp', 'facebook', 'netflix', 'gpay', 'youtube', 'snapchat', 'chatgpt', 'linkedin', 'rapido', 'gallery', 'music', 'zomato', 'swiggy', 'camera']\n"
     ]
    }
   ],
   "source": [
    "print(apps)"
   ]
  },
  {
   "cell_type": "code",
   "execution_count": 9,
   "id": "535d581c",
   "metadata": {},
   "outputs": [
    {
     "name": "stdout",
     "output_type": "stream",
     "text": [
      "['instagram', 'whatsapp', 'facebook', 'netflix', 'gpay', 'youtube', 'snapchat', 'chatgpt', 'linkedin', 'rapido', 'gallery', 'music', 'zomato', 'swiggy', 'camera', 'camera']\n"
     ]
    }
   ],
   "source": [
    "apps.append('camera')\n",
    "print(apps)"
   ]
  },
  {
   "cell_type": "code",
   "execution_count": 10,
   "id": "d4e5faac",
   "metadata": {},
   "outputs": [
    {
     "name": "stdout",
     "output_type": "stream",
     "text": [
      "['instagram', 'whatsapp', 'facebook', 'uber', 'netflix', 'gpay', 'youtube', 'snapchat', 'chatgpt', 'linkedin', 'rapido', 'gallery', 'music', 'zomato', 'swiggy', 'camera', 'camera']\n"
     ]
    }
   ],
   "source": [
    "apps.insert(3, 'uber') #insert(position,'item name')\n",
    "print(apps)"
   ]
  },
  {
   "cell_type": "code",
   "execution_count": 11,
   "id": "cc41ffe6",
   "metadata": {},
   "outputs": [
    {
     "name": "stdout",
     "output_type": "stream",
     "text": [
      "['instagram', 'whatsapp', 'uber', 'netflix', 'gpay', 'youtube', 'snapchat', 'chatgpt', 'linkedin', 'rapido', 'gallery', 'music', 'zomato', 'swiggy', 'camera', 'camera']\n"
     ]
    }
   ],
   "source": [
    "apps.pop(2) #pop(index)\n",
    "print(apps) "
   ]
  },
  {
   "cell_type": "code",
   "execution_count": 12,
   "id": "bc802a70",
   "metadata": {},
   "outputs": [
    {
     "name": "stdout",
     "output_type": "stream",
     "text": [
      "['instagram', 'whatsapp', 'uber', 'netflix', 'youtube', 'snapchat', 'chatgpt', 'linkedin', 'rapido', 'gallery', 'music', 'zomato', 'swiggy', 'camera', 'camera']\n"
     ]
    }
   ],
   "source": [
    "apps.remove('gpay') \n",
    "print(apps)"
   ]
  },
  {
   "cell_type": "code",
   "execution_count": 13,
   "id": "f78accb2",
   "metadata": {},
   "outputs": [
    {
     "name": "stdout",
     "output_type": "stream",
     "text": [
      "['instagram', 'whatsapp', 'uber', 'netflix', 'youtube', 'snapchat', 'chatgpt', 'linkedin', 'rapido', 'gallery', 'music', 'zomato', 'swiggy', 'camera', 'camera']\n"
     ]
    }
   ],
   "source": [
    "#copy the list\n",
    "copy_apps = apps.copy()\n",
    "print(copy_apps)"
   ]
  },
  {
   "cell_type": "code",
   "execution_count": 14,
   "id": "a77cd23e",
   "metadata": {},
   "outputs": [
    {
     "name": "stdout",
     "output_type": "stream",
     "text": [
      "[]\n"
     ]
    }
   ],
   "source": [
    "#clearing the list\n",
    "copy_apps.clear()\n",
    "print(copy_apps)"
   ]
  },
  {
   "cell_type": "code",
   "execution_count": 15,
   "id": "49ac6b8d",
   "metadata": {},
   "outputs": [
    {
     "name": "stdout",
     "output_type": "stream",
     "text": [
      "['camera', 'camera', 'chatgpt', 'gallery', 'instagram', 'linkedin', 'music', 'netflix', 'rapido', 'snapchat', 'swiggy', 'uber', 'whatsapp', 'youtube', 'zomato']\n"
     ]
    }
   ],
   "source": [
    "#sorting - if words list so sorting in alphabetical order and perfernce of upper case letters is high \n",
    "apps.sort()\n",
    "print(apps)"
   ]
  },
  {
   "cell_type": "code",
   "execution_count": 16,
   "id": "7638b503",
   "metadata": {},
   "outputs": [
    {
     "name": "stdout",
     "output_type": "stream",
     "text": [
      "['camera', 'camera', 'chatgpt', 'gallery', 'instagram', 'linkedin', 'music', 'netflix', 'rapido', 'snapchat', 'swiggy', 'uber', 'whatsapp', 'youtube', 'zomato', 'spotify', 'twitter']\n"
     ]
    }
   ],
   "source": [
    "apps2 = ['spotify','twitter']\n",
    "apps.extend(apps2)\n",
    "print(apps)"
   ]
  },
  {
   "cell_type": "code",
   "execution_count": 17,
   "id": "70181178",
   "metadata": {},
   "outputs": [],
   "source": [
    "apps2.extend(apps)"
   ]
  },
  {
   "cell_type": "code",
   "execution_count": 18,
   "id": "a8830c42",
   "metadata": {},
   "outputs": [
    {
     "name": "stdout",
     "output_type": "stream",
     "text": [
      "['spotify', 'twitter', 'camera', 'camera', 'chatgpt', 'gallery', 'instagram', 'linkedin', 'music', 'netflix', 'rapido', 'snapchat', 'swiggy', 'uber', 'whatsapp', 'youtube', 'zomato', 'spotify', 'twitter']\n"
     ]
    }
   ],
   "source": [
    "print(apps2)"
   ]
  },
  {
   "cell_type": "code",
   "execution_count": null,
   "id": "a7af36a8",
   "metadata": {},
   "outputs": [],
   "source": []
  }
 ],
 "metadata": {
  "kernelspec": {
   "display_name": "base",
   "language": "python",
   "name": "python3"
  },
  "language_info": {
   "codemirror_mode": {
    "name": "ipython",
    "version": 3
   },
   "file_extension": ".py",
   "mimetype": "text/x-python",
   "name": "python",
   "nbconvert_exporter": "python",
   "pygments_lexer": "ipython3",
   "version": "3.13.2"
  }
 },
 "nbformat": 4,
 "nbformat_minor": 5
}
