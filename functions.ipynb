{
 "cells": [
  {
   "cell_type": "markdown",
   "id": "458ff7b4",
   "metadata": {},
   "source": [
    "### types of funtions\n",
    "- user defined functions\n",
    "     - parameterized functions\n",
    "     - non parameterized function\n",
    "     - return funtion\n",
    "     - non return function\n",
    "     - default parameterized function\n",
    "     - lambda function\n",
    "- built in functions"
   ]
  },
  {
   "cell_type": "code",
   "execution_count": 55,
   "id": "6e518868",
   "metadata": {},
   "outputs": [],
   "source": [
    "#non parameterized function\n",
    "def greet():  #Function initialize\n",
    "    print(\"Hello\")\n",
    "    print(\"How are you\")\n",
    "    print(\"I am good thankyou\")"
   ]
  },
  {
   "cell_type": "code",
   "execution_count": 56,
   "id": "79ca8e75",
   "metadata": {},
   "outputs": [
    {
     "name": "stdout",
     "output_type": "stream",
     "text": [
      "Hello\n",
      "How are you\n",
      "I am good thankyou\n"
     ]
    }
   ],
   "source": [
    "greet()  #Function calling"
   ]
  },
  {
   "cell_type": "code",
   "execution_count": 57,
   "id": "471423af",
   "metadata": {},
   "outputs": [
    {
     "name": "stdout",
     "output_type": "stream",
     "text": [
      "15\n"
     ]
    }
   ],
   "source": [
    "#parameterized function\n",
    "def sum(a,b):  #parameter\n",
    "    print(a+b)\n",
    "sum(5,10) #arguments"
   ]
  },
  {
   "cell_type": "code",
   "execution_count": 58,
   "id": "c766ed32",
   "metadata": {},
   "outputs": [
    {
     "name": "stdout",
     "output_type": "stream",
     "text": [
      "15\n"
     ]
    }
   ],
   "source": [
    "#another method-parameterized function\n",
    "a = 10\n",
    "b = 5\n",
    "def sum():\n",
    "    print(a+b)\n",
    "sum()"
   ]
  },
  {
   "cell_type": "code",
   "execution_count": 59,
   "id": "77e07b62",
   "metadata": {},
   "outputs": [
    {
     "name": "stdout",
     "output_type": "stream",
     "text": [
      "person is elligible to vote\n"
     ]
    }
   ],
   "source": [
    "#check whether a person is eligible to vote or not using function\n",
    "def age(a):\n",
    "    if a >= 18:\n",
    "        print(\"person is elligible to vote\")\n",
    "    else:\n",
    "        print(\"person is not elligible to vote\")\n",
    "b = int(input(\"enter age\"))\n",
    "age(b)"
   ]
  },
  {
   "cell_type": "code",
   "execution_count": 60,
   "id": "5c710e24",
   "metadata": {},
   "outputs": [
    {
     "name": "stdout",
     "output_type": "stream",
     "text": [
      "2.5\n"
     ]
    }
   ],
   "source": [
    "#non return function\n",
    "def avg(a,b,c,d):\n",
    "    x = a+b+c+d\n",
    "    print(x/4)\n",
    "avg(1,2,3,4)"
   ]
  },
  {
   "cell_type": "code",
   "execution_count": 61,
   "id": "5ad07882",
   "metadata": {},
   "outputs": [
    {
     "name": "stdout",
     "output_type": "stream",
     "text": [
      "2.5\n",
      "None\n"
     ]
    }
   ],
   "source": [
    "#non return function\n",
    "def avg(a,b,c,d):\n",
    "    x = a+b+c+d\n",
    "    print(x/4)\n",
    "average = avg(1,2,3,4)\n",
    "print(average)"
   ]
  },
  {
   "cell_type": "code",
   "execution_count": 62,
   "id": "4a405332",
   "metadata": {},
   "outputs": [
    {
     "name": "stdout",
     "output_type": "stream",
     "text": [
      "2.5\n"
     ]
    }
   ],
   "source": [
    "#return function\n",
    "def avg(a,b,c,d):\n",
    "    return ((a+b+c+d)/4)\n",
    "average = avg(1,2,3,4)\n",
    "print(average)"
   ]
  },
  {
   "cell_type": "code",
   "execution_count": 63,
   "id": "40759971",
   "metadata": {},
   "outputs": [
    {
     "name": "stdout",
     "output_type": "stream",
     "text": [
      "I Love USA\n",
      "I Love London\n",
      "I Love India\n"
     ]
    }
   ],
   "source": [
    "#default parameterized function\n",
    "def myCountry(country = 'India'):\n",
    "    return f'I Love {country}'\n",
    "print(myCountry('USA'))\n",
    "print(myCountry('London'))\n",
    "print(myCountry())"
   ]
  },
  {
   "cell_type": "code",
   "execution_count": 64,
   "id": "d168a07c",
   "metadata": {},
   "outputs": [
    {
     "data": {
      "text/plain": [
       "256"
      ]
     },
     "execution_count": 64,
     "metadata": {},
     "output_type": "execute_result"
    }
   ],
   "source": [
    "#lambda function\n",
    "def square(a):\n",
    "    return a**a\n",
    "square(4)"
   ]
  },
  {
   "cell_type": "code",
   "execution_count": 65,
   "id": "ef70a081",
   "metadata": {},
   "outputs": [
    {
     "name": "stdout",
     "output_type": "stream",
     "text": [
      "27\n"
     ]
    }
   ],
   "source": [
    "square = lambda a : a**a\n",
    "print(square(3))"
   ]
  },
  {
   "cell_type": "code",
   "execution_count": 66,
   "id": "155b597c",
   "metadata": {},
   "outputs": [
    {
     "name": "stdout",
     "output_type": "stream",
     "text": [
      "number is even\n"
     ]
    }
   ],
   "source": [
    "#funtion to check if a number is even or odd\n",
    "def even(a):\n",
    "    if a % 2 == 0:\n",
    "        print(\"number is even\")\n",
    "    else:\n",
    "        print(\"number is odd\")\n",
    "even(62)"
   ]
  },
  {
   "cell_type": "code",
   "execution_count": 67,
   "id": "e157d4a1",
   "metadata": {},
   "outputs": [
    {
     "name": "stdout",
     "output_type": "stream",
     "text": [
      "number is odd\n"
     ]
    }
   ],
   "source": [
    "even(63)"
   ]
  },
  {
   "cell_type": "code",
   "execution_count": 68,
   "id": "9b04bc6d",
   "metadata": {},
   "outputs": [
    {
     "name": "stdout",
     "output_type": "stream",
     "text": [
      "prime\n"
     ]
    }
   ],
   "source": [
    "#to check if a number is prime \n",
    "def prime(n):\n",
    "    for i in range(2,n):\n",
    "        if n % i == 0:\n",
    "            print(\"not prime\")\n",
    "            break\n",
    "    else:\n",
    "        print(\"prime\")\n",
    "prime(13)"
   ]
  },
  {
   "cell_type": "code",
   "execution_count": 69,
   "id": "386da4a7",
   "metadata": {},
   "outputs": [
    {
     "data": {
      "text/plain": [
       "113.0"
      ]
     },
     "execution_count": 69,
     "metadata": {},
     "output_type": "execute_result"
    }
   ],
   "source": [
    "#celcius to fahrenheit\n",
    "def temp(c):\n",
    "    f = (c * 1.8) + 32\n",
    "    return(f)\n",
    "temp(45)"
   ]
  },
  {
   "cell_type": "code",
   "execution_count": 70,
   "id": "2091d976",
   "metadata": {},
   "outputs": [
    {
     "data": {
      "text/plain": [
       "6"
      ]
     },
     "execution_count": 70,
     "metadata": {},
     "output_type": "execute_result"
    }
   ],
   "source": [
    "#maximum of 3 numbers\n",
    "def maxThree(a,b,c):\n",
    "    max_num = max(a,b,c)\n",
    "    return(max_num)\n",
    "maxThree(2,1,6)"
   ]
  },
  {
   "cell_type": "code",
   "execution_count": 71,
   "id": "ff4824ac",
   "metadata": {},
   "outputs": [
    {
     "name": "stdout",
     "output_type": "stream",
     "text": [
      "120\n"
     ]
    }
   ],
   "source": [
    "#factorial\n",
    "def fact(n):\n",
    "    factorial = 1\n",
    "    for i in range(1,n+1):\n",
    "        factorial *= i\n",
    "    print(factorial)\n",
    "fact(5)"
   ]
  },
  {
   "cell_type": "code",
   "execution_count": 72,
   "id": "23cbca25",
   "metadata": {},
   "outputs": [
    {
     "data": {
      "text/plain": [
       "'dlroW olleH'"
      ]
     },
     "execution_count": 72,
     "metadata": {},
     "output_type": "execute_result"
    }
   ],
   "source": [
    "#reverse of a string\n",
    "def rev(str):\n",
    "    n = len(str)\n",
    "    for i in range(n):\n",
    "        return (str[::-1])\n",
    "rev(\"Hello World\")"
   ]
  },
  {
   "cell_type": "code",
   "execution_count": 73,
   "id": "2f299ced",
   "metadata": {},
   "outputs": [
    {
     "name": "stdout",
     "output_type": "stream",
     "text": [
      "5\n"
     ]
    }
   ],
   "source": [
    "#count vowels\n",
    "def vowels(v):\n",
    "    count = 0\n",
    "    for v in 'aeiou':\n",
    "        count += 1\n",
    "    print(count) \n",
    "vowels(\"I love my country\")"
   ]
  },
  {
   "cell_type": "code",
   "execution_count": 74,
   "id": "5f08225b",
   "metadata": {},
   "outputs": [
    {
     "data": {
      "text/plain": [
       "22.857142857142858"
      ]
     },
     "execution_count": 74,
     "metadata": {},
     "output_type": "execute_result"
    }
   ],
   "source": [
    "#calculate BMI\n",
    "def BMI(weight,height):\n",
    "    return (weight/height**2)\n",
    "BMI(70,1.75)"
   ]
  },
  {
   "cell_type": "code",
   "execution_count": null,
   "id": "62ffbdbd",
   "metadata": {},
   "outputs": [],
   "source": []
  }
 ],
 "metadata": {
  "kernelspec": {
   "display_name": "base",
   "language": "python",
   "name": "python3"
  },
  "language_info": {
   "codemirror_mode": {
    "name": "ipython",
    "version": 3
   },
   "file_extension": ".py",
   "mimetype": "text/x-python",
   "name": "python",
   "nbconvert_exporter": "python",
   "pygments_lexer": "ipython3",
   "version": "3.13.2"
  }
 },
 "nbformat": 4,
 "nbformat_minor": 5
}
