{
 "cells": [
  {
   "cell_type": "code",
   "execution_count": 1,
   "id": "e518693e",
   "metadata": {},
   "outputs": [],
   "source": [
    "import math"
   ]
  },
  {
   "cell_type": "code",
   "execution_count": null,
   "id": "b0ad7c7d",
   "metadata": {},
   "outputs": [
    {
     "name": "stdout",
     "output_type": "stream",
     "text": [
      "120\n",
      "1\n",
      "12\n",
      "3.141592653589793\n",
      "0.8414709848078965\n",
      "0.0\n",
      "16.0\n",
      "2.0\n"
     ]
    }
   ],
   "source": [
    "print(math.factorial(5))\n",
    "print(math.gcd(2,5,7))\n",
    "print(math.lcm(2,4,6))\n",
    "print(math.pi)\n",
    "print(math.sin(1))\n",
    "print(math.tan(0))\n",
    "print(math.pow(4,2))\n",
    "print(math.sqrt(4))"
   ]
  },
  {
   "cell_type": "code",
   "execution_count": 9,
   "id": "a8e688c4",
   "metadata": {},
   "outputs": [],
   "source": [
    "from random import random, randint, choice, shuffle"
   ]
  },
  {
   "cell_type": "code",
   "execution_count": 10,
   "id": "42cf6758",
   "metadata": {},
   "outputs": [],
   "source": [
    "import random"
   ]
  },
  {
   "cell_type": "code",
   "execution_count": 23,
   "id": "da60e76c",
   "metadata": {},
   "outputs": [
    {
     "name": "stdout",
     "output_type": "stream",
     "text": [
      "0.8268764095229298\n",
      "5\n",
      "2\n",
      "['Jane', 'Jack', 'John']\n"
     ]
    }
   ],
   "source": [
    "print(random.random()) #gives number between 0 and 1 or value nwarest to zero\n",
    "print(random.randint(2,8)) #give random number between 2 and 8\n",
    "print(random.choice([2,5,3,7,6,8])) #choose a number from the list\n",
    "\n",
    "name = ['John','Jack','Jane']\n",
    "shuffle(name)\n",
    "print(name) #gives shuffled name"
   ]
  },
  {
   "cell_type": "code",
   "execution_count": 25,
   "id": "3341c1e4",
   "metadata": {},
   "outputs": [],
   "source": [
    "from datetime import datetime as dt  #gives current date and time related elements liks months,days,microsec etc"
   ]
  },
  {
   "cell_type": "code",
   "execution_count": 26,
   "id": "96fb9e2b",
   "metadata": {},
   "outputs": [
    {
     "name": "stdout",
     "output_type": "stream",
     "text": [
      "2025-07-05 18:08:16.658988\n"
     ]
    }
   ],
   "source": [
    "print(dt.now())  #gives current date and time"
   ]
  },
  {
   "cell_type": "code",
   "execution_count": 27,
   "id": "2e4bce63",
   "metadata": {},
   "outputs": [
    {
     "name": "stdout",
     "output_type": "stream",
     "text": [
      "2025-07-05\n",
      "18:09:55.791643\n"
     ]
    }
   ],
   "source": [
    "print(dt.now().date())  #to print only date\n",
    "print(dt.now().time())  #to print only time"
   ]
  },
  {
   "cell_type": "code",
   "execution_count": null,
   "id": "d1f40a64",
   "metadata": {},
   "outputs": [
    {
     "name": "stdout",
     "output_type": "stream",
     "text": [
      "2025\n",
      "7\n",
      "5\n",
      "18\n",
      "17\n",
      "42\n",
      "5\n"
     ]
    }
   ],
   "source": [
    "print(dt.now().year)  #to print current year\n",
    "print(dt.now().month)  #to print current month\n",
    "print(dt.now().day)  #current day\n",
    "print(dt.now().hour)  #current hour\n",
    "print(dt.now().minute)  #current minute\n",
    "print(dt.now().second)  #current second\n",
    "print(dt.now().weekday())  #current weekday"
   ]
  },
  {
   "cell_type": "code",
   "execution_count": 34,
   "id": "3dd1c086",
   "metadata": {},
   "outputs": [
    {
     "name": "stdout",
     "output_type": "stream",
     "text": [
      "05/07/25\n"
     ]
    }
   ],
   "source": [
    "date = dt.strftime(dt.now(), '%d/%m/%y')\n",
    "print(date)"
   ]
  },
  {
   "cell_type": "code",
   "execution_count": 36,
   "id": "d80bb867",
   "metadata": {},
   "outputs": [
    {
     "name": "stdout",
     "output_type": "stream",
     "text": [
      "18:23:09\n"
     ]
    }
   ],
   "source": [
    "time = dt.strftime(dt.now(), '%H:%M:%S')\n",
    "print(time)"
   ]
  },
  {
   "cell_type": "code",
   "execution_count": null,
   "id": "c92c6840",
   "metadata": {},
   "outputs": [],
   "source": []
  }
 ],
 "metadata": {
  "kernelspec": {
   "display_name": "base",
   "language": "python",
   "name": "python3"
  },
  "language_info": {
   "codemirror_mode": {
    "name": "ipython",
    "version": 3
   },
   "file_extension": ".py",
   "mimetype": "text/x-python",
   "name": "python",
   "nbconvert_exporter": "python",
   "pygments_lexer": "ipython3",
   "version": "3.13.2"
  }
 },
 "nbformat": 4,
 "nbformat_minor": 5
}
