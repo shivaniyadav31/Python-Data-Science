{
 "cells": [
  {
   "cell_type": "code",
   "execution_count": 2,
   "id": "995b599c",
   "metadata": {},
   "outputs": [],
   "source": [
    "import cv2"
   ]
  },
  {
   "cell_type": "code",
   "execution_count": 6,
   "id": "0eadaa9b",
   "metadata": {},
   "outputs": [
    {
     "name": "stdout",
     "output_type": "stream",
     "text": [
      "True\n"
     ]
    },
    {
     "data": {
      "text/plain": [
       "True"
      ]
     },
     "execution_count": 6,
     "metadata": {},
     "output_type": "execute_result"
    }
   ],
   "source": [
    "# select the video source \n",
    "cap = cv2.VideoCapture(0)  # 0 for the default camera\n",
    "\n",
    "# capture single image\n",
    "ret, frame = cap.read() #ret is boolean value indicating if the frame was captured successfully, frame is the captured image\n",
    "print(ret)  # True if the frame was captured successfully, False otherwise\n",
    "cv2.imshow('camera frame', frame)  \n",
    "cv2.waitKey(0)\n",
    "cv2.destroyAllWindows()  \n",
    "cap.release()\n",
    "cv2.imwrite('selfie.png', frame)  # Save the captured image"
   ]
  },
  {
   "cell_type": "code",
   "execution_count": 7,
   "id": "0847869c",
   "metadata": {},
   "outputs": [],
   "source": [
    "# select the video source \n",
    "cap = cv2.VideoCapture(0)  \n",
    "\n",
    "# capture images in loop\n",
    "while True:\n",
    "    ret, frame = cap.read() \n",
    "    cv2.imshow('camera', frame)  \n",
    "    if cv2.waitKey(1) == ord('q'):\n",
    "        break\n",
    "cv2.destroyAllWindows()  \n",
    "cap.release()\n"
   ]
  },
  {
   "cell_type": "code",
   "execution_count": 8,
   "id": "f39a1e65",
   "metadata": {},
   "outputs": [],
   "source": [
    "#save the video\n",
    "# select the video source \n",
    "cap = cv2.VideoCapture(0) \n",
    "\n",
    "fourcc = cv2.VideoWriter_fourcc(*'XVID') \n",
    "out = cv2.VideoWriter('output.avi', fourcc, 20.0, (640, 480))  # Create a VideoWriter object, 20.0 is the frame rate, (640, 480) is the frame size\n",
    "\n",
    "# capture images in loop\n",
    "while True:\n",
    "\n",
    "    ret, frame = cap.read() \n",
    "    cv2.imshow('camera', frame)  \n",
    "\n",
    "    out.write(frame)\n",
    "\n",
    "    if cv2.waitKey(0) == ord('q'):\n",
    "        break\n",
    "cv2.destroyAllWindows()  \n",
    "cap.release()\n",
    "out.release()"
   ]
  },
  {
   "cell_type": "code",
   "execution_count": null,
   "id": "839366b5",
   "metadata": {},
   "outputs": [],
   "source": []
  }
 ],
 "metadata": {
  "kernelspec": {
   "display_name": "base",
   "language": "python",
   "name": "python3"
  },
  "language_info": {
   "codemirror_mode": {
    "name": "ipython",
    "version": 3
   },
   "file_extension": ".py",
   "mimetype": "text/x-python",
   "name": "python",
   "nbconvert_exporter": "python",
   "pygments_lexer": "ipython3",
   "version": "3.13.2"
  }
 },
 "nbformat": 4,
 "nbformat_minor": 5
}
