{
 "cells": [
  {
   "cell_type": "markdown",
   "id": "746b8357",
   "metadata": {},
   "source": [
    "- mediapipe - hand gesture\n",
    "- yolo - object recognition"
   ]
  },
  {
   "cell_type": "code",
   "execution_count": null,
   "id": "8e8b65e8",
   "metadata": {},
   "outputs": [
    {
     "ename": "ModuleNotFoundError",
     "evalue": "No module named 'mediapipe'",
     "output_type": "error",
     "traceback": [
      "\u001b[31m---------------------------------------------------------------------------\u001b[39m",
      "\u001b[31mModuleNotFoundError\u001b[39m                       Traceback (most recent call last)",
      "\u001b[36mCell\u001b[39m\u001b[36m \u001b[39m\u001b[32mIn[1]\u001b[39m\u001b[32m, line 2\u001b[39m\n\u001b[32m      1\u001b[39m \u001b[38;5;28;01mimport\u001b[39;00m\u001b[38;5;250m \u001b[39m\u001b[34;01mcv2\u001b[39;00m\n\u001b[32m----> \u001b[39m\u001b[32m2\u001b[39m \u001b[38;5;28;01mimport\u001b[39;00m\u001b[38;5;250m \u001b[39m\u001b[34;01mmediapipe\u001b[39;00m\u001b[38;5;250m \u001b[39m\u001b[38;5;28;01mas\u001b[39;00m\u001b[38;5;250m \u001b[39m\u001b[34;01mmp\u001b[39;00m\n\u001b[32m      4\u001b[39m \u001b[38;5;66;03m# mp_hands = mp.solutions.hands\u001b[39;00m\n\u001b[32m      5\u001b[39m \u001b[38;5;66;03m# mp_draw = mp.solutions.drawing_uyils\u001b[39;00m\n\u001b[32m      6\u001b[39m \n\u001b[32m   (...)\u001b[39m\u001b[32m     19\u001b[39m \u001b[38;5;66;03m#         if results.multi_hand_landmarks:\u001b[39;00m\n\u001b[32m     20\u001b[39m \u001b[38;5;66;03m#             for hand_landmarks in results.mul\u001b[39;00m\n",
      "\u001b[31mModuleNotFoundError\u001b[39m: No module named 'mediapipe'"
     ]
    }
   ],
   "source": [
    "import cv2\n",
    "import mediapipe as mp\n",
    "\n",
    "mp_hands = mp.solutions.hands\n",
    "mp_draw = mp.solutions.drawing_uyils\n",
    "\n",
    "cap = cv2.VideoCapture(0)\n",
    "\n",
    "#Start Mediapipe Hands\n",
    "with mp_hands.Hands(min_detection_confidence=0.7, min_tracking_confidence=0.7) as hands:\n",
    "    while True:\n",
    "        ret, frame = cap.read()\n",
    "        frame = cv2.flip(frame, 1)\n",
    "        rgb = cv2.cvtColor(frame, cv2.Color_BGR2RGB)\n",
    "\n",
    "        results = hands.process(rgb)\n",
    "\n",
    "        gesture = \"No Hand\"\n",
    "        if results.multi_hand_landmarks:\n",
    "            for hand_landmarks in results.mul"
   ]
  },
  {
   "cell_type": "code",
   "execution_count": null,
   "id": "e8a94409",
   "metadata": {},
   "outputs": [],
   "source": []
  }
 ],
 "metadata": {
  "kernelspec": {
   "display_name": "myenv",
   "language": "python",
   "name": "python3"
  },
  "language_info": {
   "codemirror_mode": {
    "name": "ipython",
    "version": 3
   },
   "file_extension": ".py",
   "mimetype": "text/x-python",
   "name": "python",
   "nbconvert_exporter": "python",
   "pygments_lexer": "ipython3",
   "version": "-1.-1.-1"
  }
 },
 "nbformat": 4,
 "nbformat_minor": 5
}
