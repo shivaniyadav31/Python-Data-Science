{
 "cells": [
  {
   "cell_type": "code",
   "execution_count": 2,
   "id": "7a2a858b",
   "metadata": {},
   "outputs": [],
   "source": [
    "import cv2"
   ]
  },
  {
   "cell_type": "code",
   "execution_count": 3,
   "id": "e8669cf9",
   "metadata": {},
   "outputs": [],
   "source": [
    "image = cv2.imread('images.jpeg')"
   ]
  },
  {
   "cell_type": "code",
   "execution_count": 4,
   "id": "b027d338",
   "metadata": {},
   "outputs": [],
   "source": [
    "# Check if the image was loaded successfully\n",
    "if image is not None:\n",
    "    cv2.imshow('Image', image)\n",
    "    cv2.waitKey(0)\n",
    "    cv2.destroyAllWindows()"
   ]
  },
  {
   "cell_type": "code",
   "execution_count": 5,
   "id": "1e972992",
   "metadata": {},
   "outputs": [],
   "source": [
    "# Convert the image to grayscale and display it\n",
    "gray_image = cv2.cvtColor( image, cv2.COLOR_BGR2GRAY )  # Convert the image to grayscale\n",
    "cv2.imshow('Image', gray_image) \n",
    "cv2.waitKey(0)  # Wait for a key press to close the window\n",
    "cv2.destroyAllWindows()  # Close all OpenCV windows"
   ]
  },
  {
   "cell_type": "code",
   "execution_count": 6,
   "id": "a5c7e525",
   "metadata": {},
   "outputs": [],
   "source": [
    "# Apply Gaussian blur to the image\n",
    "blurred_image = cv2.GaussianBlur( image, (17, 17), 0 )\n",
    "cv2.imshow('Blurred Image', blurred_image)\n",
    "cv2.waitKey(0)\n",
    "cv2.destroyAllWindows()"
   ]
  },
  {
   "cell_type": "code",
   "execution_count": 7,
   "id": "bf597dcf",
   "metadata": {},
   "outputs": [],
   "source": [
    "# Detect edges in the grayscale image using Canny edge detection\n",
    "edges = cv2.Canny( gray_image, 100, 200 )\n",
    "cv2.imshow('Edges', edges)\n",
    "cv2.waitKey(0)\n",
    "cv2.destroyAllWindows()"
   ]
  },
  {
   "cell_type": "code",
   "execution_count": 8,
   "id": "4ae9450f",
   "metadata": {},
   "outputs": [],
   "source": [
    "# Resize the image to a smaller size for display\n",
    "small_image = cv2.resize(image, (600, 400))\n",
    "cv2.imshow('Small image', small_image)\n",
    "cv2.waitKey(0)\n",
    "cv2.destroyAllWindows()"
   ]
  },
  {
   "cell_type": "code",
   "execution_count": 9,
   "id": "d4330430",
   "metadata": {},
   "outputs": [
    {
     "data": {
      "text/plain": [
       "(168, 300, 3)"
      ]
     },
     "execution_count": 9,
     "metadata": {},
     "output_type": "execute_result"
    }
   ],
   "source": [
    "image.shape"
   ]
  },
  {
   "cell_type": "code",
   "execution_count": 10,
   "id": "8384f1c7",
   "metadata": {},
   "outputs": [],
   "source": [
    "cropped_image = image[100:400, 100:400]  # Crop the image to a specific region\n",
    "\n",
    "cv2.imshow('Cropped Image', cropped_image)\n",
    "cv2.waitKey(0)\n",
    "cv2.destroyAllWindows()"
   ]
  },
  {
   "cell_type": "code",
   "execution_count": 23,
   "id": "3b80a7cb",
   "metadata": {},
   "outputs": [],
   "source": [
    "drawing = image.copy()  # Create a copy of the original image for drawing\n",
    "cv2.rectangle(drawing, (120,250), (160,50), (36,200,150), 3)  #(image, start_point, end_point, color, thickness)\n",
    "cv2.imshow('Rectangle', drawing)\n",
    "cv2.waitKey(0)\n",
    "cv2.destroyAllWindows() "
   ]
  },
  {
   "cell_type": "code",
   "execution_count": null,
   "id": "8106207c",
   "metadata": {},
   "outputs": [],
   "source": []
  }
 ],
 "metadata": {
  "kernelspec": {
   "display_name": "base",
   "language": "python",
   "name": "python3"
  },
  "language_info": {
   "codemirror_mode": {
    "name": "ipython",
    "version": 3
   },
   "file_extension": ".py",
   "mimetype": "text/x-python",
   "name": "python",
   "nbconvert_exporter": "python",
   "pygments_lexer": "ipython3",
   "version": "3.13.2"
  }
 },
 "nbformat": 4,
 "nbformat_minor": 5
}
