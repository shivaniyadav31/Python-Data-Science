{
 "cells": [
  {
   "cell_type": "code",
   "execution_count": null,
   "id": "f8ec4989",
   "metadata": {},
   "outputs": [
    {
     "name": "stdout",
     "output_type": "stream",
     "text": [
      "hello\n"
     ]
    }
   ],
   "source": [
    "a=10\n",
    "if a<12:\n",
    "    print(\"hello\")"
   ]
  },
  {
   "cell_type": "code",
   "execution_count": 2,
   "id": "67cb587c",
   "metadata": {},
   "outputs": [
    {
     "name": "stdout",
     "output_type": "stream",
     "text": [
      "A\n",
      "B\n"
     ]
    }
   ],
   "source": [
    "marks=85\n",
    "if marks >= 90:\n",
    "    print(\"A+\")\n",
    "if marks >= 80:\n",
    "    print(\"A\")\n",
    "if marks >= 60:\n",
    "    print(\"B\")\n",
    "if marks < 60:\n",
    "    print('Fail')"
   ]
  },
  {
   "cell_type": "code",
   "execution_count": 3,
   "id": "b6cdf54c",
   "metadata": {},
   "outputs": [
    {
     "name": "stdout",
     "output_type": "stream",
     "text": [
      "A\n"
     ]
    }
   ],
   "source": [
    "marks=85\n",
    "if marks >= 90:\n",
    "    print(\"A+\")\n",
    "elif marks >=80:\n",
    "    print(\"A\")\n",
    "elif marks >= 60:\n",
    "    print(\"B\")\n",
    "elif marks < 60:\n",
    "    print('Fail')\n",
    "else:\n",
    "    print(\"invalid marks\")"
   ]
  },
  {
   "cell_type": "code",
   "execution_count": 4,
   "id": "9d69e332",
   "metadata": {},
   "outputs": [
    {
     "name": "stdout",
     "output_type": "stream",
     "text": [
      "eligible to vote\n"
     ]
    }
   ],
   "source": [
    "age=21\n",
    "if age >= 18:\n",
    "    print(\"eligible to vote\")\n",
    "else:\n",
    "    print(\"not eligible to vote\")"
   ]
  },
  {
   "cell_type": "markdown",
   "id": "d2ee665b",
   "metadata": {},
   "source": [
    "- check whether the 2 sides of a triangle are equal or not\n",
    "- check whether a triangle is equilateral triangle or iscoceles triangle\n",
    "- check whether a character entered by user is a vowel or not\n",
    "- check ehether a year is a leap year or not\n",
    "- check whether a number is even or odd\n",
    "- calculate the gross salary of an employee where the basic salary is 50,000 HRA is 5% of basic salary and DA is 10% of basic salary"
   ]
  },
  {
   "cell_type": "code",
   "execution_count": 39,
   "id": "3726d05b",
   "metadata": {},
   "outputs": [
    {
     "name": "stdout",
     "output_type": "stream",
     "text": [
      "the 2 sides are equal\n"
     ]
    }
   ],
   "source": [
    "#the 2 sides of a triangle are equal or not\n",
    "s1=int(input(\"enter side of the triangle:\"))\n",
    "s2=int(input(\"enter another side of the triangle:\"))\n",
    "s3=int(input(\"enter third side of the triangle:\"))\n",
    "if s1==s2 or s2==s3 or s1==s3:\n",
    "    print(\"the 2 sides are equal\")\n",
    "else:\n",
    "    print(\"the 2 sides are not equal\")"
   ]
  },
  {
   "cell_type": "code",
   "execution_count": 1,
   "id": "679a45e1",
   "metadata": {},
   "outputs": [
    {
     "name": "stdout",
     "output_type": "stream",
     "text": [
      "it is an iscoceles triangle\n"
     ]
    }
   ],
   "source": [
    "#whether the triangle is equilateral or iscoceles\n",
    "s1=int(input(\"enter side of the triangle:\"))\n",
    "s2=int(input(\"enter another side of the triangle:\"))\n",
    "s3=int(input(\"enter third side of the triangle:\"))\n",
    "if s1==s2 and s2==s3 and s1==s3:\n",
    "    print(\"it is an equilateral triangle\")\n",
    "elif s1==s2 or s2==s3 or s1==s3:\n",
    "    print(\"it is an iscoceles triangle\")\n",
    "else:\n",
    "    print(\"it is a scalene triangle\")"
   ]
  },
  {
   "cell_type": "code",
   "execution_count": 6,
   "id": "63d46ed1",
   "metadata": {},
   "outputs": [
    {
     "name": "stdout",
     "output_type": "stream",
     "text": [
      "the entered character is a vowel\n"
     ]
    }
   ],
   "source": [
    "#character is a vowel or not \n",
    "X=input(\"enter a character\")\n",
    "if X in \"aeiou\":\n",
    "    print(\"the entered character is a vowel\")\n",
    "elif X in \"AEIOU\":\n",
    "    print(\" the entered character is a vowel\")\n",
    "else:\n",
    "    print(\"the entered character is not a vowel\")"
   ]
  },
  {
   "cell_type": "code",
   "execution_count": null,
   "id": "ecc6ddb8",
   "metadata": {},
   "outputs": [
    {
     "name": "stdout",
     "output_type": "stream",
     "text": [
      "year is not a leap year\n"
     ]
    }
   ],
   "source": [
    "#year is a leap year\n",
    "year=int(input(\"enter year\"))\n",
    "if (year % 4 == 0 and year % 100 != 0) or (year % 400 == 0):\n",
    "    print(\"year is a leap year\")\n",
    "else:\n",
    "    print(\"year is not a leap year\")"
   ]
  },
  {
   "cell_type": "code",
   "execution_count": 14,
   "id": "63a141ef",
   "metadata": {},
   "outputs": [
    {
     "name": "stdout",
     "output_type": "stream",
     "text": [
      "number is odd\n"
     ]
    }
   ],
   "source": [
    "a=int(input(\"enter a number\"))\n",
    "if a % 2 == 0:\n",
    "    print(\"number is even\")\n",
    "else:\n",
    "    print(\"number is odd\")"
   ]
  },
  {
   "cell_type": "code",
   "execution_count": 48,
   "id": "2cd122e3",
   "metadata": {},
   "outputs": [
    {
     "name": "stdout",
     "output_type": "stream",
     "text": [
      "HRA = 2500.0\n",
      "DA = 5000.0\n",
      "gross salary = 57500.0\n"
     ]
    }
   ],
   "source": [
    "#to calculate gross salary\n",
    "basic_sal = 50000\n",
    "hra = 0.05 * basic_sal\n",
    "da = 0.10 * basic_sal\n",
    "gross_sal = basic_sal +  hra + da\n",
    "print(\"HRA =\",hra)\n",
    "print(\"DA =\",da)\n",
    "print(\"gross salary =\",gross_sal)"
   ]
  },
  {
   "cell_type": "code",
   "execution_count": 2,
   "id": "fdc3950a",
   "metadata": {},
   "outputs": [
    {
     "name": "stdout",
     "output_type": "stream",
     "text": [
      "registration successful\n"
     ]
    }
   ],
   "source": [
    "username = input(\"enter your username\")\n",
    "email = input(\"enter email\")\n",
    "password = input(\"enter password\")\n",
    "cpass = input(\"confirm your password\")\n",
    "if len(username)>=8 and len(username)<=20:\n",
    "    if '@' in email and len(email) >=8:\n",
    "        if len(password) >=10 and len(password) <= 20:\n",
    "            if password == cpass:\n",
    "                print(\"registration successful\")\n",
    "            else:\n",
    "                print(\"password mismatched\")\n",
    "        else:\n",
    "            print(\"password must be in between 10 and 20 characters\")\n",
    "    else:\n",
    "        print(\"invalid email\")\n",
    "else:\n",
    "    print(\"username must be between 8 and 20 characters\")"
   ]
  },
  {
   "cell_type": "code",
   "execution_count": null,
   "id": "92d0e963",
   "metadata": {},
   "outputs": [],
   "source": []
  }
 ],
 "metadata": {
  "kernelspec": {
   "display_name": "base",
   "language": "python",
   "name": "python3"
  },
  "language_info": {
   "codemirror_mode": {
    "name": "ipython",
    "version": 3
   },
   "file_extension": ".py",
   "mimetype": "text/x-python",
   "name": "python",
   "nbconvert_exporter": "python",
   "pygments_lexer": "ipython3",
   "version": "3.13.2"
  }
 },
 "nbformat": 4,
 "nbformat_minor": 5
}
