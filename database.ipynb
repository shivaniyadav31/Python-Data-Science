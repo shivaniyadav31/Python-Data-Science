{
 "cells": [
  {
   "cell_type": "code",
   "execution_count": 11,
   "id": "09bd1420",
   "metadata": {},
   "outputs": [],
   "source": [
    "from sqlalchemy import create_engine, Column, Integer, String\n",
    "from sqlalchemy.orm import declarative_base, sessionmaker"
   ]
  },
  {
   "cell_type": "markdown",
   "id": "10e4b349",
   "metadata": {},
   "source": [
    "- create_engine : It is used to make connection from the database\n",
    "- column : It defines columns in database \n",
    "- Integer and String : datatype values in database"
   ]
  },
  {
   "cell_type": "code",
   "execution_count": 12,
   "id": "745cd7de",
   "metadata": {},
   "outputs": [],
   "source": [
    "engine = create_engine('sqlite:///user.db')  #.db is the extension of the file "
   ]
  },
  {
   "cell_type": "code",
   "execution_count": 13,
   "id": "e4d5f89a",
   "metadata": {},
   "outputs": [],
   "source": [
    "#this line is needed to create the table \n",
    "Base = declarative_base()"
   ]
  },
  {
   "cell_type": "code",
   "execution_count": 14,
   "id": "f0012aa5",
   "metadata": {},
   "outputs": [],
   "source": [
    "class User(Base):\n",
    "    __tablename__='users'\n",
    "    id = Column(Integer, primary_key=True)\n",
    "    name = Column(String)\n",
    "    password = Column(String)"
   ]
  },
  {
   "cell_type": "code",
   "execution_count": 15,
   "id": "a4d2a50e",
   "metadata": {},
   "outputs": [],
   "source": [
    "Base.metadata.create_all(engine)"
   ]
  },
  {
   "cell_type": "code",
   "execution_count": 16,
   "id": "8e0d3eca",
   "metadata": {},
   "outputs": [],
   "source": [
    "Session = sessionmaker(bind=engine)  #this line tells the sessionmaker to use the engine \n",
    "session = Session()  #this line creates a session object "
   ]
  },
  {
   "cell_type": "code",
   "execution_count": 17,
   "id": "424175b8",
   "metadata": {},
   "outputs": [],
   "source": [
    "#add a new user \n",
    "new_user = User(name='Alice', password='2736')\n",
    "session.add(new_user)\n",
    "session.commit()"
   ]
  },
  {
   "cell_type": "code",
   "execution_count": 18,
   "id": "54590afe",
   "metadata": {},
   "outputs": [],
   "source": [
    "#add a new user \n",
    "new_user = User(name='John', password='abrakadabra')\n",
    "session.add(new_user)\n",
    "session.commit()"
   ]
  },
  {
   "cell_type": "code",
   "execution_count": null,
   "id": "2edf59ad",
   "metadata": {},
   "outputs": [
    {
     "name": "stdout",
     "output_type": "stream",
     "text": [
      "ID: 1,Name: Alice, Password: 2736\n",
      "ID: 2,Name: John, Password: abrakadabra\n"
     ]
    }
   ],
   "source": [
    "#retrieve all users\n",
    "users = session.query(User).all()\n",
    "for user in users:\n",
    "    print(f'ID: {user.id},Name: {user.name}, Password: {user.password}')"
   ]
  },
  {
   "cell_type": "code",
   "execution_count": 20,
   "id": "5bb51ff1",
   "metadata": {},
   "outputs": [],
   "source": [
    "#update the user\n",
    "user = session.query(User).filter_by(id=1).first()\n",
    "user.name = 'John Smith'\n",
    "session.commit()"
   ]
  },
  {
   "cell_type": "code",
   "execution_count": 21,
   "id": "26fb985c",
   "metadata": {},
   "outputs": [
    {
     "name": "stdout",
     "output_type": "stream",
     "text": [
      "ID: 1,Name: John Smith, Password: 2736\n",
      "ID: 2,Name: John, Password: abrakadabra\n"
     ]
    }
   ],
   "source": [
    "#retrieve all users\n",
    "users = session.query(User).all()\n",
    "for user in users:\n",
    "    print(f'ID: {user.id},Name: {user.name}, Password: {user.password}')"
   ]
  },
  {
   "cell_type": "code",
   "execution_count": 23,
   "id": "b6922c14",
   "metadata": {},
   "outputs": [],
   "source": [
    "#delete a user\n",
    "user = session.query(User).filter_by(id=1).first()\n",
    "session.delete(user)\n",
    "session.commit()"
   ]
  },
  {
   "cell_type": "code",
   "execution_count": 25,
   "id": "5a6c854a",
   "metadata": {},
   "outputs": [
    {
     "name": "stdout",
     "output_type": "stream",
     "text": [
      "ID: 2,Name: John, Password: abrakadabra\n"
     ]
    }
   ],
   "source": [
    "#retrieve all users\n",
    "users = session.query(User).all()\n",
    "for user in users:\n",
    "    print(f'ID: {user.id},Name: {user.name}, Password: {user.password}')"
   ]
  },
  {
   "cell_type": "code",
   "execution_count": null,
   "id": "08303576",
   "metadata": {},
   "outputs": [],
   "source": []
  }
 ],
 "metadata": {
  "kernelspec": {
   "display_name": "base",
   "language": "python",
   "name": "python3"
  },
  "language_info": {
   "codemirror_mode": {
    "name": "ipython",
    "version": 3
   },
   "file_extension": ".py",
   "mimetype": "text/x-python",
   "name": "python",
   "nbconvert_exporter": "python",
   "pygments_lexer": "ipython3",
   "version": "3.13.2"
  }
 },
 "nbformat": 4,
 "nbformat_minor": 5
}
