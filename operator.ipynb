{
 "cells": [
  {
   "cell_type": "markdown",
   "id": "5ce77508",
   "metadata": {},
   "source": [
    "## list"
   ]
  },
  {
   "cell_type": "code",
   "execution_count": 1,
   "id": "f2acefff",
   "metadata": {},
   "outputs": [
    {
     "name": "stdout",
     "output_type": "stream",
     "text": [
      "['apple', 'mango', 'banana', 'cherry', 'apple']\n"
     ]
    }
   ],
   "source": [
    "fruits=['apple','mango','banana','cherry','apple']\n",
    "print(fruits)"
   ]
  },
  {
   "cell_type": "markdown",
   "id": "16648bf4",
   "metadata": {},
   "source": [
    "## tuple"
   ]
  },
  {
   "cell_type": "code",
   "execution_count": 2,
   "id": "8d75145c",
   "metadata": {},
   "outputs": [
    {
     "name": "stdout",
     "output_type": "stream",
     "text": [
      "('apple', 'mango', 'banana', 'cherry', 'apple')\n"
     ]
    }
   ],
   "source": [
    "fruits=('apple','mango','banana','cherry','apple')\n",
    "print(fruits)\n"
   ]
  },
  {
   "cell_type": "markdown",
   "id": "97293554",
   "metadata": {},
   "source": [
    "## set"
   ]
  },
  {
   "cell_type": "code",
   "execution_count": 3,
   "id": "9e199856",
   "metadata": {},
   "outputs": [
    {
     "name": "stdout",
     "output_type": "stream",
     "text": [
      "{'banana', 'apple', 'mango', 'cherry'}\n"
     ]
    }
   ],
   "source": [
    "fruits={'apple','mango','banana','cherry','apple'}\n",
    "print(fruits)"
   ]
  },
  {
   "cell_type": "markdown",
   "id": "27238a4b",
   "metadata": {},
   "source": [
    "## dict"
   ]
  },
  {
   "cell_type": "code",
   "execution_count": 4,
   "id": "2516041c",
   "metadata": {},
   "outputs": [
    {
     "name": "stdout",
     "output_type": "stream",
     "text": [
      "{'name': 'john', 'age': 27, 'class': '10th', 'marks': 64}\n"
     ]
    }
   ],
   "source": [
    "student={\n",
    "    'name' : 'john',\n",
    "    'age' : 27,\n",
    "    'class' : '10th',\n",
    "    'marks' : 64\n",
    "}\n",
    "print(student)"
   ]
  },
  {
   "cell_type": "markdown",
   "id": "c4ee0434",
   "metadata": {},
   "source": [
    "### to print the datatype of variable"
   ]
  },
  {
   "cell_type": "code",
   "execution_count": 5,
   "id": "5d0a4121",
   "metadata": {},
   "outputs": [
    {
     "data": {
      "text/plain": [
       "dict"
      ]
     },
     "execution_count": 5,
     "metadata": {},
     "output_type": "execute_result"
    }
   ],
   "source": [
    "type(student)"
   ]
  },
  {
   "cell_type": "markdown",
   "id": "bb0e8fe6",
   "metadata": {},
   "source": [
    "### changing the datatype of variable"
   ]
  },
  {
   "cell_type": "code",
   "execution_count": 6,
   "id": "91d9becf",
   "metadata": {},
   "outputs": [
    {
     "name": "stdout",
     "output_type": "stream",
     "text": [
      "8\n"
     ]
    },
    {
     "data": {
      "text/plain": [
       "str"
      ]
     },
     "execution_count": 6,
     "metadata": {},
     "output_type": "execute_result"
    }
   ],
   "source": [
    "#type casting\n",
    "b=8\n",
    "c=str(b)\n",
    "print(c)\n",
    "type(c)"
   ]
  },
  {
   "cell_type": "code",
   "execution_count": null,
   "id": "796a58a3",
   "metadata": {},
   "outputs": [],
   "source": [
    "a=int(input(\"enter a number\"))\n",
    "b=int(input(\"enter another number\"))\n",
    "print(a+b)"
   ]
  },
  {
   "cell_type": "code",
   "execution_count": null,
   "id": "c5f2db4d",
   "metadata": {},
   "outputs": [],
   "source": []
  }
 ],
 "metadata": {
  "kernelspec": {
   "display_name": "base",
   "language": "python",
   "name": "python3"
  },
  "language_info": {
   "codemirror_mode": {
    "name": "ipython",
    "version": 3
   },
   "file_extension": ".py",
   "mimetype": "text/x-python",
   "name": "python",
   "nbconvert_exporter": "python",
   "pygments_lexer": "ipython3",
   "version": "3.13.2"
  }
 },
 "nbformat": 4,
 "nbformat_minor": 5
}
