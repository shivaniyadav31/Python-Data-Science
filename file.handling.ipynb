{
 "cells": [
  {
   "cell_type": "code",
   "execution_count": 1,
   "id": "23f0e2ed",
   "metadata": {},
   "outputs": [],
   "source": [
    "import os"
   ]
  },
  {
   "cell_type": "code",
   "execution_count": 2,
   "id": "bc379f25",
   "metadata": {},
   "outputs": [
    {
     "name": "stdout",
     "output_type": "stream",
     "text": [
      "Curremt Working Directory is: c:\\Users\\HP\\OneDrive\\Desktop\\data science\n"
     ]
    }
   ],
   "source": [
    "print('Curremt Working Directory is:', os.getcwd())  #getcwd() - get current working dir"
   ]
  },
  {
   "cell_type": "code",
   "execution_count": 4,
   "id": "7804d367",
   "metadata": {},
   "outputs": [
    {
     "name": "stdout",
     "output_type": "stream",
     "text": [
      "Files in Current working directory ['.git', 'armstrong.py', 'basics.ipynb', 'conditions.ipynb', 'data structures', 'file.handling.ipynb', 'Flask', 'functions.ipynb', 'libraries.ipynb', 'loops.ipynb', 'operator.ipynb', 'pallindrom3.py', 'pattern.py', 'pattern2.py', 'practice ques', 'prime.py', 'prime2.py']\n"
     ]
    }
   ],
   "source": [
    "files = os.listdir()  #listdir() - list of dir\n",
    "print('Files in Current working directory', files)"
   ]
  },
  {
   "cell_type": "code",
   "execution_count": 6,
   "id": "6dcfb7a3",
   "metadata": {},
   "outputs": [
    {
     "name": "stdout",
     "output_type": "stream",
     "text": [
      "['25.0']\n"
     ]
    }
   ],
   "source": [
    "files = os.listdir(r\"C:\\Users\\HP\\OneDrive\\Documents\\Adobe\\Adobe Media Encoder\")\n",
    "print(files)"
   ]
  },
  {
   "cell_type": "code",
   "execution_count": 9,
   "id": "45155980",
   "metadata": {},
   "outputs": [
    {
     "name": "stdout",
     "output_type": "stream",
     "text": [
      "=> C:\\Users\\HP\\OneDrive\\Documents\\Adobe\\Common\n",
      "📂 ['Assets']\n",
      "🗄️ []\n",
      "=> C:\\Users\\HP\\OneDrive\\Documents\\Adobe\\Common\\Assets\n",
      "📂 ['Label Color Presets', 'Project Templates', 'Text Styles']\n",
      "🗄️ []\n",
      "=> C:\\Users\\HP\\OneDrive\\Documents\\Adobe\\Common\\Assets\\Label Color Presets\n",
      "📂 []\n",
      "🗄️ []\n",
      "=> C:\\Users\\HP\\OneDrive\\Documents\\Adobe\\Common\\Assets\\Project Templates\n",
      "📂 []\n",
      "🗄️ []\n",
      "=> C:\\Users\\HP\\OneDrive\\Documents\\Adobe\\Common\\Assets\\Text Styles\n",
      "📂 []\n",
      "🗄️ []\n",
      "Total Files in directory tree: 0\n"
     ]
    }
   ],
   "source": [
    "total_files = 0\n",
    "for path, folder, files in os.walk(r\"C:\\Users\\HP\\OneDrive\\Documents\\Adobe\\Common\"):\n",
    "    print('=>',path)\n",
    "    print('📂',folder)\n",
    "    print('🗄️',files)\n",
    "    total_files += len(files)\n",
    "print('Total Files in directory tree:',total_files)"
   ]
  },
  {
   "cell_type": "code",
   "execution_count": 10,
   "id": "fc958252",
   "metadata": {},
   "outputs": [
    {
     "name": "stdout",
     "output_type": "stream",
     "text": [
      "The file does not exist\n"
     ]
    }
   ],
   "source": [
    "files = r'D:\\JAVA'\n",
    "if os.path.exists(files):\n",
    "    print('The file exist')\n",
    "else:\n",
    "    print('The file does not exist')"
   ]
  },
  {
   "cell_type": "code",
   "execution_count": null,
   "id": "6cac29bc",
   "metadata": {},
   "outputs": [],
   "source": []
  }
 ],
 "metadata": {
  "kernelspec": {
   "display_name": "base",
   "language": "python",
   "name": "python3"
  },
  "language_info": {
   "codemirror_mode": {
    "name": "ipython",
    "version": 3
   },
   "file_extension": ".py",
   "mimetype": "text/x-python",
   "name": "python",
   "nbconvert_exporter": "python",
   "pygments_lexer": "ipython3",
   "version": "3.13.2"
  }
 },
 "nbformat": 4,
 "nbformat_minor": 5
}
