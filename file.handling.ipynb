{
 "cells": [
  {
   "cell_type": "code",
   "execution_count": 1,
   "id": "23f0e2ed",
   "metadata": {},
   "outputs": [],
   "source": [
    "import os"
   ]
  },
  {
   "cell_type": "code",
   "execution_count": 7,
   "id": "bc379f25",
   "metadata": {},
   "outputs": [
    {
     "name": "stdout",
     "output_type": "stream",
     "text": [
      "Curremt Working Directory is: c:\\Users\\HP\\OneDrive\\Desktop\\data science\n"
     ]
    }
   ],
   "source": [
    "print('Curremt Working Directory is:', os.getcwd())  #getcwd() - get current working dir"
   ]
  },
  {
   "cell_type": "code",
   "execution_count": null,
   "id": "7804d367",
   "metadata": {},
   "outputs": [
    {
     "name": "stdout",
     "output_type": "stream",
     "text": [
      "Files in Current working files ['.git', 'armstrong.py', 'basics.ipynb', 'conditions.ipynb', 'data structures', 'file.handling.ipynb', 'functions.ipynb', 'libraries.ipynb', 'loops.ipynb', 'operator.ipynb', 'pallindrom3.py', 'pattern.py', 'pattern2.py', 'practice ques', 'prime.py', 'prime2.py']\n"
     ]
    }
   ],
   "source": [
    "files = os.listdir()  #listdir() - list of dir\n",
    "print('Files in Current working files', files)"
   ]
  },
  {
   "cell_type": "code",
   "execution_count": null,
   "id": "6dcfb7a3",
   "metadata": {},
   "outputs": [],
   "source": [
    "files = os.listdir()  #listdir() - list of dir\n",
    "print('Files in Current working files', files)"
   ]
  }
 ],
 "metadata": {
  "kernelspec": {
   "display_name": "base",
   "language": "python",
   "name": "python3"
  },
  "language_info": {
   "codemirror_mode": {
    "name": "ipython",
    "version": 3
   },
   "file_extension": ".py",
   "mimetype": "text/x-python",
   "name": "python",
   "nbconvert_exporter": "python",
   "pygments_lexer": "ipython3",
   "version": "3.13.2"
  }
 },
 "nbformat": 4,
 "nbformat_minor": 5
}
