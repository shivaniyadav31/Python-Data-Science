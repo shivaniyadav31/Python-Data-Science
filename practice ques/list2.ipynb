{
 "cells": [
  {
   "cell_type": "code",
   "execution_count": 9,
   "id": "c59a2417",
   "metadata": {},
   "outputs": [
    {
     "name": "stdout",
     "output_type": "stream",
     "text": [
      "[59, 78, 12, 46, 37, 20]\n"
     ]
    }
   ],
   "source": [
    "L1 = []\n",
    "n = int(input(\"enter range of list\"))\n",
    "for i in range(0,n):\n",
    "    a = int(input(\"enter numbers in list\"))\n",
    "    L1.append(a)\n",
    "print(L1)"
   ]
  },
  {
   "cell_type": "code",
   "execution_count": 13,
   "id": "b1432cdf",
   "metadata": {},
   "outputs": [
    {
     "name": "stdout",
     "output_type": "stream",
     "text": [
      "integer is not present in the list\n"
     ]
    }
   ],
   "source": [
    "b = int(input(\"enter a number\"))\n",
    "if b in L1:\n",
    "    print(\"integer is present in the list\")\n",
    "else:\n",
    "    print(\"integer is not present in the list\")"
   ]
  },
  {
   "cell_type": "code",
   "execution_count": null,
   "id": "2ef42672",
   "metadata": {},
   "outputs": [
    {
     "name": "stdout",
     "output_type": "stream",
     "text": [
      "['amazon', 'calender', 'chrome', 'flipcart', 'microsoft store', 'omen', 'python', 'zomato']\n"
     ]
    }
   ],
   "source": [
    "#sorting\n",
    "L2 = [\"amazon\",\"flipcart\",\"zomato\",\"calender\",\"python\",\"chrome\",\"microsoft store\",\"omen\"]\n",
    "L2.sort()\n",
    "print(L2)"
   ]
  },
  {
   "cell_type": "code",
   "execution_count": 20,
   "id": "350c1f4f",
   "metadata": {},
   "outputs": [
    {
     "name": "stdout",
     "output_type": "stream",
     "text": [
      "78\n"
     ]
    }
   ],
   "source": [
    "#max number\n",
    "for i in L1:\n",
    "    max_val = max(L1)\n",
    "print(max_val)"
   ]
  },
  {
   "cell_type": "code",
   "execution_count": 41,
   "id": "54dd01b6",
   "metadata": {},
   "outputs": [
    {
     "name": "stdout",
     "output_type": "stream",
     "text": [
      "[20, 89, 37, 25]\n",
      "[37, 20]\n"
     ]
    }
   ],
   "source": [
    "#finding common element between 2 lists\n",
    "L3 = []\n",
    "n = int(input(\"enter range of list\"))\n",
    "for i in range(0,n):\n",
    "    a = int(input(\"enter numbers in list\"))\n",
    "    L3.append(a)\n",
    "print(L3)\n",
    "common_ele = []\n",
    "for i in L1:\n",
    "    if i in L3 and i not in common_ele:\n",
    "        common_ele.append(i)\n",
    "print(common_ele)"
   ]
  },
  {
   "cell_type": "code",
   "execution_count": null,
   "id": "c83bd691",
   "metadata": {},
   "outputs": [],
   "source": []
  }
 ],
 "metadata": {
  "kernelspec": {
   "display_name": "base",
   "language": "python",
   "name": "python3"
  },
  "language_info": {
   "codemirror_mode": {
    "name": "ipython",
    "version": 3
   },
   "file_extension": ".py",
   "mimetype": "text/x-python",
   "name": "python",
   "nbconvert_exporter": "python",
   "pygments_lexer": "ipython3",
   "version": "3.13.2"
  }
 },
 "nbformat": 4,
 "nbformat_minor": 5
}
