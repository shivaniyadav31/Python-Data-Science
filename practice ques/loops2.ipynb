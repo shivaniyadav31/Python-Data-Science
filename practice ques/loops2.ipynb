{
 "cells": [
  {
   "cell_type": "code",
   "execution_count": 9,
   "id": "9928955a",
   "metadata": {},
   "outputs": [
    {
     "name": "stdout",
     "output_type": "stream",
     "text": [
      "1\n",
      "2\n",
      "3\n",
      "4\n",
      "5\n",
      "6\n",
      "7\n",
      "8\n",
      "9\n",
      "10\n"
     ]
    }
   ],
   "source": [
    "#print numbers from 1 to 10\n",
    "for i in range(1,11):\n",
    "    print(i)"
   ]
  },
  {
   "cell_type": "code",
   "execution_count": 10,
   "id": "b517748d",
   "metadata": {},
   "outputs": [
    {
     "name": "stdout",
     "output_type": "stream",
     "text": [
      "7 * 1 =  7\n",
      "7 * 2 =  14\n",
      "7 * 3 =  21\n",
      "7 * 4 =  28\n",
      "7 * 5 =  35\n",
      "7 * 6 =  42\n",
      "7 * 7 =  49\n",
      "7 * 8 =  56\n",
      "7 * 9 =  63\n",
      "7 * 10 =  70\n"
     ]
    }
   ],
   "source": [
    "#to print multiplication of a given number\n",
    "a = int(input(\"enter number\"))\n",
    "i = 1\n",
    "while i <= 10:\n",
    "    print(f\"{a} * {i} = \",i*a)\n",
    "    i+=1"
   ]
  },
  {
   "cell_type": "code",
   "execution_count": 11,
   "id": "f4749b28",
   "metadata": {},
   "outputs": [
    {
     "name": "stdout",
     "output_type": "stream",
     "text": [
      "2550\n"
     ]
    }
   ],
   "source": [
    "#find sum of even numbers between 1 to 100\n",
    "sum = 0\n",
    "for i in range(1,101):\n",
    "    if i % 2 == 0:\n",
    "        sum += i\n",
    "print(sum)"
   ]
  },
  {
   "cell_type": "code",
   "execution_count": 12,
   "id": "87d46ea6",
   "metadata": {},
   "outputs": [
    {
     "name": "stdout",
     "output_type": "stream",
     "text": [
      "5 is a prime number\n"
     ]
    }
   ],
   "source": [
    "# Program to check if a number is prime using while loop\n",
    "\n",
    "num = int(input(\"Enter a number: \"))\n",
    "\n",
    "# 0 and 1 are not prime numbers\n",
    "if num <= 1:\n",
    "    print(num, \"is not a prime number\")\n",
    "else:\n",
    "    i = 2\n",
    "    is_prime = True\n",
    "\n",
    "    while i <= num // 2:\n",
    "        if num % i == 0:\n",
    "            is_prime = False\n",
    "            break\n",
    "        i += 1\n",
    "\n",
    "    if is_prime:\n",
    "        print(num, \"is a prime number\")\n",
    "    else:\n",
    "        print(num, \"is not a prime number\")"
   ]
  },
  {
   "cell_type": "code",
   "execution_count": 13,
   "id": "c0c4018e",
   "metadata": {},
   "outputs": [
    {
     "name": "stdout",
     "output_type": "stream",
     "text": [
      "120\n"
     ]
    }
   ],
   "source": [
    "#factorial of a given number\n",
    "n = int(input(\"enter number\"))\n",
    "if n < 0:\n",
    "    print(\"factorial of negative number does not exist\")\n",
    "else:\n",
    "    factorial = 1\n",
    "    for i in range(1,n+1):\n",
    "        factorial *= i\n",
    "    print(factorial)"
   ]
  },
  {
   "cell_type": "code",
   "execution_count": 14,
   "id": "a93b0448",
   "metadata": {},
   "outputs": [
    {
     "name": "stdout",
     "output_type": "stream",
     "text": [
      "0 1 1 2 3 5 8 13 "
     ]
    }
   ],
   "source": [
    "#fibonacci series\n",
    "n = (int(input(\"enter number\")))\n",
    "a = 0\n",
    "b = 1\n",
    "for i in range(0,n-1):\n",
    "    temp = a\n",
    "    a = b\n",
    "    b = temp + b\n",
    "    print(temp, end = \" \")"
   ]
  },
  {
   "cell_type": "code",
   "execution_count": null,
   "id": "0d59394d",
   "metadata": {},
   "outputs": [
    {
     "name": "stdout",
     "output_type": "stream",
     "text": [
      "[100, 45, 3054, 789, 152, 36]\n",
      "3054\n"
     ]
    }
   ],
   "source": [
    "#greatest number in an array\n",
    "arr = []\n",
    "n = int(input(\"enter size of array\"))\n",
    "for i in range(0,n):\n",
    "    a = int(input(\"enter elements for array\"))\n",
    "    arr.append(a)\n",
    "print(arr)\n",
    "max_num = max(arr)\n",
    "print(max_num)\n"
   ]
  },
  {
   "cell_type": "code",
   "execution_count": null,
   "id": "36171dac",
   "metadata": {},
   "outputs": [
    {
     "name": "stdout",
     "output_type": "stream",
     "text": [
      " dlrow nohtyp ot emoclew\n"
     ]
    }
   ],
   "source": [
    "#reverse of a string\n",
    "str = input(\"enter string\")\n",
    "rev_str = \" \"\n",
    "i = len(str) - 1\n",
    "while i >= 0:\n",
    "    rev_str += str[i]\n",
    "    i -= 1\n",
    "print(rev_str)"
   ]
  },
  {
   "cell_type": "code",
   "execution_count": 39,
   "id": "0e395b39",
   "metadata": {},
   "outputs": [
    {
     "name": "stdout",
     "output_type": "stream",
     "text": [
      "A : 65\n",
      "B : 66\n",
      "C : 67\n",
      "D : 68\n",
      "E : 69\n",
      "F : 70\n",
      "G : 71\n",
      "H : 72\n",
      "I : 73\n",
      "J : 74\n",
      "K : 75\n",
      "L : 76\n",
      "M : 77\n",
      "N : 78\n",
      "O : 79\n",
      "P : 80\n",
      "Q : 81\n",
      "R : 82\n",
      "S : 83\n",
      "T : 84\n",
      "U : 85\n",
      "V : 86\n",
      "W : 87\n",
      "X : 88\n",
      "Y : 89\n",
      "Z : 90\n"
     ]
    }
   ],
   "source": [
    "#ASCII values \n",
    "for char in range(ord('A') , ord('Z') + 1):\n",
    "    print(f\"{chr(char)} : {char}\")"
   ]
  },
  {
   "cell_type": "code",
   "execution_count": null,
   "id": "5c3b9c7e",
   "metadata": {},
   "outputs": [],
   "source": [
    "#string is a pallindrome\n"
   ]
  }
 ],
 "metadata": {
  "kernelspec": {
   "display_name": "base",
   "language": "python",
   "name": "python3"
  },
  "language_info": {
   "codemirror_mode": {
    "name": "ipython",
    "version": 3
   },
   "file_extension": ".py",
   "mimetype": "text/x-python",
   "name": "python",
   "nbconvert_exporter": "python",
   "pygments_lexer": "ipython3",
   "version": "3.13.2"
  }
 },
 "nbformat": 4,
 "nbformat_minor": 5
}
