{
 "cells": [
  {
   "cell_type": "code",
   "execution_count": null,
   "id": "57b69822",
   "metadata": {},
   "outputs": [],
   "source": [
    "str = \"\""
   ]
  }
 ],
 "metadata": {
  "language_info": {
   "name": "python"
  }
 },
 "nbformat": 4,
 "nbformat_minor": 5
}
