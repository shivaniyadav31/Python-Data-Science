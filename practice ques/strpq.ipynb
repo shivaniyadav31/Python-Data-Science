{
 "cells": [
  {
   "cell_type": "code",
   "execution_count": 26,
   "id": "57b69822",
   "metadata": {},
   "outputs": [
    {
     "name": "stdout",
     "output_type": "stream",
     "text": [
      "Hello World\n"
     ]
    }
   ],
   "source": [
    "str = \"Hello World\"\n",
    "print(str)"
   ]
  },
  {
   "cell_type": "code",
   "execution_count": 28,
   "id": "6223459c",
   "metadata": {},
   "outputs": [
    {
     "name": "stdout",
     "output_type": "stream",
     "text": [
      "length of 'Python World' is 12\n"
     ]
    }
   ],
   "source": [
    "str1 = input(\"enter string\")\n",
    "print(f\"length of '{str1}' is {len(str1)}\")"
   ]
  },
  {
   "cell_type": "code",
   "execution_count": null,
   "id": "974957fa",
   "metadata": {},
   "outputs": [
    {
     "name": "stdout",
     "output_type": "stream",
     "text": [
      "great\n"
     ]
    }
   ],
   "source": [
    "s = \"Python is great\"\n",
    "print(s[10:15])"
   ]
  },
  {
   "cell_type": "code",
   "execution_count": null,
   "id": "fa2282bd",
   "metadata": {},
   "outputs": [
    {
     "name": "stdout",
     "output_type": "stream",
     "text": [
      "Pyhton\n",
      "is\n",
      "everywhere\n"
     ]
    }
   ],
   "source": [
    "str2 = \"Pyhton is everywhere\"\n",
    "for i in str2.split():\n",
    "    print(i)"
   ]
  },
  {
   "cell_type": "code",
   "execution_count": 29,
   "id": "e57995a5",
   "metadata": {},
   "outputs": [
    {
     "name": "stdout",
     "output_type": "stream",
     "text": [
      "dlroW olleH\n"
     ]
    }
   ],
   "source": [
    "a = len(str)\n",
    "for i in range(a):\n",
    "    print(str[::-1])\n",
    "    break"
   ]
  },
  {
   "cell_type": "code",
   "execution_count": 30,
   "id": "246988ab",
   "metadata": {},
   "outputs": [
    {
     "data": {
      "text/plain": [
       "'HOW ARE YOU'"
      ]
     },
     "execution_count": 30,
     "metadata": {},
     "output_type": "execute_result"
    }
   ],
   "source": [
    "str3 = \"How are you\"\n",
    "str3.upper()"
   ]
  },
  {
   "cell_type": "code",
   "execution_count": 31,
   "id": "90a8fbcd",
   "metadata": {},
   "outputs": [
    {
     "data": {
      "text/plain": [
       "'how is it going'"
      ]
     },
     "execution_count": 31,
     "metadata": {},
     "output_type": "execute_result"
    }
   ],
   "source": [
    "str4 = \"How Is It Going\"\n",
    "str4.lower()"
   ]
  },
  {
   "cell_type": "code",
   "execution_count": 45,
   "id": "1c51efcb",
   "metadata": {},
   "outputs": [
    {
     "name": "stdout",
     "output_type": "stream",
     "text": [
      "Python is easy to learn\n"
     ]
    }
   ],
   "source": [
    "words = ['Python', 'is', 'easy', 'to', 'learn']\n",
    "print(' '.join(words))"
   ]
  },
  {
   "cell_type": "code",
   "execution_count": 46,
   "id": "6b6ec891",
   "metadata": {},
   "outputs": [
    {
     "name": "stdout",
     "output_type": "stream",
     "text": [
      "Twinkle Twinkle little star\n",
      "how I wonder what you are\n",
      "up above the world so high\n",
      "like a diamond in the sky\n"
     ]
    }
   ],
   "source": [
    "poem = '''Twinkle Twinkle little star\n",
    "how I wonder what you are\n",
    "up above the world so high\n",
    "like a diamond in the sky'''\n",
    "print(poem)"
   ]
  },
  {
   "cell_type": "code",
   "execution_count": 53,
   "id": "03c073ea",
   "metadata": {},
   "outputs": [
    {
     "name": "stdout",
     "output_type": "stream",
     "text": [
      "to move to new line '\\n' is used\n"
     ]
    }
   ],
   "source": [
    "a = input(\"enter\")\n",
    "print(f\"to move to new line {a} is used\")"
   ]
  },
  {
   "cell_type": "code",
   "execution_count": 54,
   "id": "fb6a9188",
   "metadata": {},
   "outputs": [
    {
     "name": "stdout",
     "output_type": "stream",
     "text": [
      "the variable is 15\n"
     ]
    }
   ],
   "source": [
    "print(\"the variable is 15\")"
   ]
  },
  {
   "cell_type": "code",
   "execution_count": 55,
   "id": "1cae362f",
   "metadata": {},
   "outputs": [
    {
     "name": "stdout",
     "output_type": "stream",
     "text": [
      "the variable is 15\n"
     ]
    }
   ],
   "source": [
    "#another method\n",
    "var = 15\n",
    "print(f\"the variable is {var}\")"
   ]
  },
  {
   "cell_type": "code",
   "execution_count": 64,
   "id": "54461ad4",
   "metadata": {},
   "outputs": [
    {
     "name": "stdout",
     "output_type": "stream",
     "text": [
      "Pythonisgreat.\n"
     ]
    }
   ],
   "source": [
    "S1 = 'Python'\n",
    "S2 = 'is'\n",
    "S3 = 'great.'\n",
    "print(S1 + S2 + S3)"
   ]
  },
  {
   "cell_type": "code",
   "execution_count": 66,
   "id": "d5cdaaf3",
   "metadata": {},
   "outputs": [
    {
     "name": "stdout",
     "output_type": "stream",
     "text": [
      "####################\n"
     ]
    }
   ],
   "source": [
    "has = '#'\n",
    "print(has*20)"
   ]
  },
  {
   "cell_type": "code",
   "execution_count": 70,
   "id": "47454962",
   "metadata": {},
   "outputs": [
    {
     "name": "stdout",
     "output_type": "stream",
     "text": [
      "1.\n",
      "2.\n",
      "3.\n",
      "4.\n",
      "5.\n",
      "6.\n",
      "7.\n",
      "8.\n",
      "9.\n"
     ]
    }
   ],
   "source": [
    "for i in range(1,10):\n",
    "    print(i,end = \".\\n\")"
   ]
  },
  {
   "cell_type": "code",
   "execution_count": 72,
   "id": "9531fe87",
   "metadata": {},
   "outputs": [
    {
     "name": "stdout",
     "output_type": "stream",
     "text": [
      "1.\n",
      "2.\n",
      "3.\n",
      "4.\n",
      "5.\n",
      "6.\n",
      "7.\n",
      "8.\n",
      "9.\n"
     ]
    }
   ],
   "source": [
    "#another method\n",
    "for i in range(1,10):\n",
    "    print(f\"{i}.\")"
   ]
  },
  {
   "cell_type": "code",
   "execution_count": 77,
   "id": "ec8f7187",
   "metadata": {},
   "outputs": [
    {
     "name": "stdout",
     "output_type": "stream",
     "text": [
      "hello\n",
      "how\n",
      "are\n",
      "you\n"
     ]
    }
   ],
   "source": [
    "sent = input(\"enter a sentence\")\n",
    "for i in sent.split():\n",
    "    print(i)"
   ]
  },
  {
   "cell_type": "code",
   "execution_count": 85,
   "id": "90139712",
   "metadata": {},
   "outputs": [
    {
     "name": "stdout",
     "output_type": "stream",
     "text": [
      "the string 'welcome to python world' does not ends with '?'\n"
     ]
    }
   ],
   "source": [
    "s1 = input(\"enter a string\")\n",
    "if s1.endswith(\"?\"):\n",
    "    print(f\"the string '{s1}' ends with '?'\")\n",
    "else:\n",
    "    print(f\"the string '{s1}' does not ends with '?'\")"
   ]
  },
  {
   "cell_type": "code",
   "execution_count": null,
   "id": "db7eed37",
   "metadata": {},
   "outputs": [],
   "source": []
  }
 ],
 "metadata": {
  "kernelspec": {
   "display_name": "base",
   "language": "python",
   "name": "python3"
  },
  "language_info": {
   "codemirror_mode": {
    "name": "ipython",
    "version": 3
   },
   "file_extension": ".py",
   "mimetype": "text/x-python",
   "name": "python",
   "nbconvert_exporter": "python",
   "pygments_lexer": "ipython3",
   "version": "3.13.2"
  }
 },
 "nbformat": 4,
 "nbformat_minor": 5
}
